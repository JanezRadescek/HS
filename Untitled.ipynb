{
 "cells": [
  {
   "cell_type": "code",
   "execution_count": 1,
   "metadata": {
    "collapsed": false
   },
   "outputs": [],
   "source": [
    "import pandas as pd"
   ]
  },
  {
   "cell_type": "code",
   "execution_count": 2,
   "metadata": {
    "collapsed": false
   },
   "outputs": [],
   "source": [
    "deck = pd.read_csv(r'C:\\Users\\janez\\Google Drive\\faks\\Programiranje_1\\CSV1.csv', index_col='id')"
   ]
  },
  {
   "cell_type": "code",
   "execution_count": 3,
   "metadata": {
    "collapsed": true
   },
   "outputs": [],
   "source": [
    "curve = pd.read_csv(r'C:\\Users\\janez\\Google Drive\\faks\\Programiranje_1\\CSV_curve.csv', index_col=\"id\")"
   ]
  },
  {
   "cell_type": "code",
   "execution_count": 4,
   "metadata": {
    "collapsed": true
   },
   "outputs": [],
   "source": [
    "cards = pd.read_csv(r'C:\\Users\\janez\\Google Drive\\faks\\Programiranje_1\\CSV_cards.csv', index_col='id')"
   ]
  },
  {
   "cell_type": "code",
   "execution_count": 5,
   "metadata": {
    "collapsed": true
   },
   "outputs": [],
   "source": [
    "tabela1 = pd.merge(deck, curve, left_index=True, right_index=True)\n",
    "tabela2 = pd.merge(deck, cards, left_index=True, right_index=True)"
   ]
  },
  {
   "cell_type": "code",
   "execution_count": 6,
   "metadata": {
    "collapsed": false
   },
   "outputs": [
    {
     "data": {
      "text/plain": [
       "<matplotlib.axes._subplots.AxesSubplot at 0x6115f50>"
      ]
     },
     "execution_count": 6,
     "metadata": {},
     "output_type": "execute_result"
    },
    {
     "data": {
      "image/png": "[encoded data removed]",
      "text/plain": [
       "<matplotlib.figure.Figure at 0x6115970>"
      ]
     },
     "metadata": {},
     "output_type": "display_data"
    }
   ],
   "source": [
    "%matplotlib inline\n",
    "tabela1.groupby('type').mean().sort_values('cost').reset_index()[['type','cost']].plot(x='type')"
   ]
  },
  {
   "cell_type": "code",
   "execution_count": 7,
   "metadata": {
    "collapsed": false
   },
   "outputs": [
    {
     "data": {
      "text/html": [
       "<div>\n",
       "<table border=\"1\" class=\"dataframe\">\n",
       "  <thead>\n",
       "    <tr style=\"text-align: right;\">\n",
       "      <th></th>\n",
       "      <th>type</th>\n",
       "      <th>0</th>\n",
       "      <th>1</th>\n",
       "      <th>2</th>\n",
       "      <th>3</th>\n",
       "      <th>4</th>\n",
       "      <th>5</th>\n",
       "      <th>6</th>\n",
       "      <th>7</th>\n",
       "    </tr>\n",
       "  </thead>\n",
       "  <tbody>\n",
       "    <tr>\n",
       "      <th>0</th>\n",
       "      <td>Aggro</td>\n",
       "      <td>0.545455</td>\n",
       "      <td>6.727273</td>\n",
       "      <td>8.818182</td>\n",
       "      <td>5.454545</td>\n",
       "      <td>4.818182</td>\n",
       "      <td>2.636364</td>\n",
       "      <td>0.636364</td>\n",
       "      <td>0.363636</td>\n",
       "    </tr>\n",
       "    <tr>\n",
       "      <th>1</th>\n",
       "      <td>Midrange</td>\n",
       "      <td>0.615385</td>\n",
       "      <td>4.230769</td>\n",
       "      <td>8.153846</td>\n",
       "      <td>5.307692</td>\n",
       "      <td>5.538462</td>\n",
       "      <td>2.461538</td>\n",
       "      <td>1.538462</td>\n",
       "      <td>2.153846</td>\n",
       "    </tr>\n",
       "    <tr>\n",
       "      <th>2</th>\n",
       "      <td>None</td>\n",
       "      <td>0.666667</td>\n",
       "      <td>4.000000</td>\n",
       "      <td>8.333333</td>\n",
       "      <td>6.833333</td>\n",
       "      <td>3.000000</td>\n",
       "      <td>2.833333</td>\n",
       "      <td>3.000000</td>\n",
       "      <td>1.333333</td>\n",
       "    </tr>\n",
       "    <tr>\n",
       "      <th>3</th>\n",
       "      <td>Tempo</td>\n",
       "      <td>0.000000</td>\n",
       "      <td>4.000000</td>\n",
       "      <td>8.333333</td>\n",
       "      <td>6.666667</td>\n",
       "      <td>3.333333</td>\n",
       "      <td>3.000000</td>\n",
       "      <td>2.000000</td>\n",
       "      <td>2.666667</td>\n",
       "    </tr>\n",
       "    <tr>\n",
       "      <th>4</th>\n",
       "      <td>Control</td>\n",
       "      <td>0.700000</td>\n",
       "      <td>1.900000</td>\n",
       "      <td>6.000000</td>\n",
       "      <td>5.800000</td>\n",
       "      <td>5.100000</td>\n",
       "      <td>4.200000</td>\n",
       "      <td>2.500000</td>\n",
       "      <td>3.800000</td>\n",
       "    </tr>\n",
       "    <tr>\n",
       "      <th>5</th>\n",
       "      <td>Combo</td>\n",
       "      <td>1.333333</td>\n",
       "      <td>3.500000</td>\n",
       "      <td>6.833333</td>\n",
       "      <td>8.666667</td>\n",
       "      <td>2.666667</td>\n",
       "      <td>2.666667</td>\n",
       "      <td>2.166667</td>\n",
       "      <td>2.166667</td>\n",
       "    </tr>\n",
       "    <tr>\n",
       "      <th>6</th>\n",
       "      <td>Theorycraft</td>\n",
       "      <td>0.000000</td>\n",
       "      <td>1.000000</td>\n",
       "      <td>6.000000</td>\n",
       "      <td>10.000000</td>\n",
       "      <td>3.000000</td>\n",
       "      <td>3.000000</td>\n",
       "      <td>3.000000</td>\n",
       "      <td>4.000000</td>\n",
       "    </tr>\n",
       "  </tbody>\n",
       "</table>\n",
       "</div>"
      ],
      "text/plain": [
       "          type         0         1         2          3         4         5  \\\n",
       "0        Aggro  0.545455  6.727273  8.818182   5.454545  4.818182  2.636364   \n",
       "1     Midrange  0.615385  4.230769  8.153846   5.307692  5.538462  2.461538   \n",
       "2         None  0.666667  4.000000  8.333333   6.833333  3.000000  2.833333   \n",
       "3        Tempo  0.000000  4.000000  8.333333   6.666667  3.333333  3.000000   \n",
       "4      Control  0.700000  1.900000  6.000000   5.800000  5.100000  4.200000   \n",
       "5        Combo  1.333333  3.500000  6.833333   8.666667  2.666667  2.666667   \n",
       "6  Theorycraft  0.000000  1.000000  6.000000  10.000000  3.000000  3.000000   \n",
       "\n",
       "          6         7  \n",
       "0  0.636364  0.363636  \n",
       "1  1.538462  2.153846  \n",
       "2  3.000000  1.333333  \n",
       "3  2.000000  2.666667  \n",
       "4  2.500000  3.800000  \n",
       "5  2.166667  2.166667  \n",
       "6  3.000000  4.000000  "
      ]
     },
     "execution_count": 7,
     "metadata": {},
     "output_type": "execute_result"
    }
   ],
   "source": [
    "tabela1.groupby('type').mean().sort_values('cost').reset_index()[['type','0','1','2','3','4','5','6','7']]"
   ]
  },
  {
   "cell_type": "code",
   "execution_count": 9,
   "metadata": {
    "collapsed": false
   },
   "outputs": [
    {
     "data": {
      "text/plain": [
       "<matplotlib.axes._subplots.AxesSubplot at 0x614f150>"
      ]
     },
     "execution_count": 9,
     "metadata": {},
     "output_type": "execute_result"
    },
    {
     "data": {
      "image/png": "[encoded data removed]",
      "text/plain": [
       "<matplotlib.figure.Figure at 0x6437b30>"
      ]
     },
     "metadata": {},
     "output_type": "display_data"
    }
   ],
   "source": [
    "%matplotlib inline\n",
    "tabela1.groupby('type').mean().sort_values('cost').reset_index()[['type','0','1','2','3','4','5','6','7']].plot(kind='area',x='type')"
   ]
  },
  {
   "cell_type": "code",
   "execution_count": 10,
   "metadata": {
    "collapsed": false
   },
   "outputs": [
    {
     "data": {
      "text/html": [
       "<div>\n",
       "<table border=\"1\" class=\"dataframe\">\n",
       "  <thead>\n",
       "    <tr style=\"text-align: right;\">\n",
       "      <th></th>\n",
       "      <th>hero</th>\n",
       "      <th>type</th>\n",
       "      <th>cost</th>\n",
       "      <th>1</th>\n",
       "      <th>2</th>\n",
       "      <th>3</th>\n",
       "      <th>4</th>\n",
       "      <th>5</th>\n",
       "      <th>6</th>\n",
       "      <th>7</th>\n",
       "      <th>...</th>\n",
       "      <th>21</th>\n",
       "      <th>22</th>\n",
       "      <th>23</th>\n",
       "      <th>24</th>\n",
       "      <th>25</th>\n",
       "      <th>26</th>\n",
       "      <th>27</th>\n",
       "      <th>28</th>\n",
       "      <th>29</th>\n",
       "      <th>30</th>\n",
       "    </tr>\n",
       "    <tr>\n",
       "      <th>id</th>\n",
       "      <th></th>\n",
       "      <th></th>\n",
       "      <th></th>\n",
       "      <th></th>\n",
       "      <th></th>\n",
       "      <th></th>\n",
       "      <th></th>\n",
       "      <th></th>\n",
       "      <th></th>\n",
       "      <th></th>\n",
       "      <th></th>\n",
       "      <th></th>\n",
       "      <th></th>\n",
       "      <th></th>\n",
       "      <th></th>\n",
       "      <th></th>\n",
       "      <th></th>\n",
       "      <th></th>\n",
       "      <th></th>\n",
       "      <th></th>\n",
       "      <th></th>\n",
       "    </tr>\n",
       "  </thead>\n",
       "  <tbody>\n",
       "    <tr>\n",
       "      <th>1</th>\n",
       "      <td>warlock</td>\n",
       "      <td>Control</td>\n",
       "      <td>5380</td>\n",
       "      <td>sacrificial-pact</td>\n",
       "      <td>mortal-coil</td>\n",
       "      <td>power-overwhelming</td>\n",
       "      <td>darkbomb</td>\n",
       "      <td>dark-peddler</td>\n",
       "      <td>imp-gang-boss</td>\n",
       "      <td>hellfire</td>\n",
       "      <td>...</td>\n",
       "      <td>sludge-belcher</td>\n",
       "      <td>NaN</td>\n",
       "      <td>NaN</td>\n",
       "      <td>NaN</td>\n",
       "      <td>NaN</td>\n",
       "      <td>NaN</td>\n",
       "      <td>NaN</td>\n",
       "      <td>NaN</td>\n",
       "      <td>NaN</td>\n",
       "      <td>NaN</td>\n",
       "    </tr>\n",
       "    <tr>\n",
       "      <th>2</th>\n",
       "      <td>mage</td>\n",
       "      <td>Tempo</td>\n",
       "      <td>4420</td>\n",
       "      <td>arcane-missiles</td>\n",
       "      <td>mirror-image</td>\n",
       "      <td>mana-wyrm</td>\n",
       "      <td>flamecannon</td>\n",
       "      <td>frostbolt</td>\n",
       "      <td>unstable-portal</td>\n",
       "      <td>sorcerers-apprentice</td>\n",
       "      <td>...</td>\n",
       "      <td>NaN</td>\n",
       "      <td>NaN</td>\n",
       "      <td>NaN</td>\n",
       "      <td>NaN</td>\n",
       "      <td>NaN</td>\n",
       "      <td>NaN</td>\n",
       "      <td>NaN</td>\n",
       "      <td>NaN</td>\n",
       "      <td>NaN</td>\n",
       "      <td>NaN</td>\n",
       "    </tr>\n",
       "    <tr>\n",
       "      <th>3</th>\n",
       "      <td>paladin</td>\n",
       "      <td>Aggro</td>\n",
       "      <td>3100</td>\n",
       "      <td>blessing-of-might</td>\n",
       "      <td>shielded-minibot</td>\n",
       "      <td>coghammer</td>\n",
       "      <td>divine-favor</td>\n",
       "      <td>muster-for-battle</td>\n",
       "      <td>blessing-of-kings</td>\n",
       "      <td>keeper-of-uldaman</td>\n",
       "      <td>...</td>\n",
       "      <td>NaN</td>\n",
       "      <td>NaN</td>\n",
       "      <td>NaN</td>\n",
       "      <td>NaN</td>\n",
       "      <td>NaN</td>\n",
       "      <td>NaN</td>\n",
       "      <td>NaN</td>\n",
       "      <td>NaN</td>\n",
       "      <td>NaN</td>\n",
       "      <td>NaN</td>\n",
       "    </tr>\n",
       "    <tr>\n",
       "      <th>4</th>\n",
       "      <td>warrior</td>\n",
       "      <td>Midrange</td>\n",
       "      <td>9460</td>\n",
       "      <td>execute</td>\n",
       "      <td>shield-slam</td>\n",
       "      <td>fiery-war-axe</td>\n",
       "      <td>slam</td>\n",
       "      <td>alexstraszas-champion</td>\n",
       "      <td>armorsmith</td>\n",
       "      <td>cruel-taskmaster</td>\n",
       "      <td>...</td>\n",
       "      <td>azure-drake</td>\n",
       "      <td>blackwing-corruptor</td>\n",
       "      <td>sludge-belcher</td>\n",
       "      <td>reno-jackson</td>\n",
       "      <td>chillmaw</td>\n",
       "      <td>dr-boom</td>\n",
       "      <td>nefarian</td>\n",
       "      <td>ysera</td>\n",
       "      <td>NaN</td>\n",
       "      <td>NaN</td>\n",
       "    </tr>\n",
       "    <tr>\n",
       "      <th>5</th>\n",
       "      <td>warlock</td>\n",
       "      <td>Midrange</td>\n",
       "      <td>4580</td>\n",
       "      <td>mortal-coil</td>\n",
       "      <td>power-overwhelming</td>\n",
       "      <td>voidwalker</td>\n",
       "      <td>dark-peddler</td>\n",
       "      <td>imp-gang-boss</td>\n",
       "      <td>imp-losion</td>\n",
       "      <td>voidcaller</td>\n",
       "      <td>...</td>\n",
       "      <td>NaN</td>\n",
       "      <td>NaN</td>\n",
       "      <td>NaN</td>\n",
       "      <td>NaN</td>\n",
       "      <td>NaN</td>\n",
       "      <td>NaN</td>\n",
       "      <td>NaN</td>\n",
       "      <td>NaN</td>\n",
       "      <td>NaN</td>\n",
       "      <td>NaN</td>\n",
       "    </tr>\n",
       "  </tbody>\n",
       "</table>\n",
       "<p>5 rows × 33 columns</p>\n",
       "</div>"
      ],
      "text/plain": [
       "       hero      type  cost                  1                   2  \\\n",
       "id                                                                   \n",
       "1   warlock   Control  5380   sacrificial-pact         mortal-coil   \n",
       "2      mage     Tempo  4420    arcane-missiles        mirror-image   \n",
       "3   paladin     Aggro  3100  blessing-of-might    shielded-minibot   \n",
       "4   warrior  Midrange  9460            execute         shield-slam   \n",
       "5   warlock  Midrange  4580        mortal-coil  power-overwhelming   \n",
       "\n",
       "                     3             4                      5  \\\n",
       "id                                                            \n",
       "1   power-overwhelming      darkbomb           dark-peddler   \n",
       "2            mana-wyrm   flamecannon              frostbolt   \n",
       "3            coghammer  divine-favor      muster-for-battle   \n",
       "4        fiery-war-axe          slam  alexstraszas-champion   \n",
       "5           voidwalker  dark-peddler          imp-gang-boss   \n",
       "\n",
       "                    6                     7 ...               21  \\\n",
       "id                                          ...                    \n",
       "1       imp-gang-boss              hellfire ...   sludge-belcher   \n",
       "2     unstable-portal  sorcerers-apprentice ...              NaN   \n",
       "3   blessing-of-kings     keeper-of-uldaman ...              NaN   \n",
       "4          armorsmith      cruel-taskmaster ...      azure-drake   \n",
       "5          imp-losion            voidcaller ...              NaN   \n",
       "\n",
       "                     22              23            24        25       26  \\\n",
       "id                                                                         \n",
       "1                   NaN             NaN           NaN       NaN      NaN   \n",
       "2                   NaN             NaN           NaN       NaN      NaN   \n",
       "3                   NaN             NaN           NaN       NaN      NaN   \n",
       "4   blackwing-corruptor  sludge-belcher  reno-jackson  chillmaw  dr-boom   \n",
       "5                   NaN             NaN           NaN       NaN      NaN   \n",
       "\n",
       "          27     28   29   30  \n",
       "id                             \n",
       "1        NaN    NaN  NaN  NaN  \n",
       "2        NaN    NaN  NaN  NaN  \n",
       "3        NaN    NaN  NaN  NaN  \n",
       "4   nefarian  ysera  NaN  NaN  \n",
       "5        NaN    NaN  NaN  NaN  \n",
       "\n",
       "[5 rows x 33 columns]"
      ]
     },
     "execution_count": 10,
     "metadata": {},
     "output_type": "execute_result"
    }
   ],
   "source": [
    "tabela2.head()"
   ]
  },
  {
   "cell_type": "code",
   "execution_count": 11,
   "metadata": {
    "collapsed": false
   },
   "outputs": [
    {
     "data": {
      "text/html": [
       "<div>\n",
       "<table border=\"1\" class=\"dataframe\">\n",
       "  <thead>\n",
       "    <tr style=\"text-align: right;\">\n",
       "      <th></th>\n",
       "      <th>cost</th>\n",
       "    </tr>\n",
       "    <tr>\n",
       "      <th>hero</th>\n",
       "      <th></th>\n",
       "    </tr>\n",
       "  </thead>\n",
       "  <tbody>\n",
       "    <tr>\n",
       "      <th>paladin</th>\n",
       "      <td>3763.333333</td>\n",
       "    </tr>\n",
       "    <tr>\n",
       "      <th>mage</th>\n",
       "      <td>4654.545455</td>\n",
       "    </tr>\n",
       "    <tr>\n",
       "      <th>hunter</th>\n",
       "      <td>4703.333333</td>\n",
       "    </tr>\n",
       "    <tr>\n",
       "      <th>shaman</th>\n",
       "      <td>4780.000000</td>\n",
       "    </tr>\n",
       "    <tr>\n",
       "      <th>warlock</th>\n",
       "      <td>5616.666667</td>\n",
       "    </tr>\n",
       "    <tr>\n",
       "      <th>rogue</th>\n",
       "      <td>5620.000000</td>\n",
       "    </tr>\n",
       "    <tr>\n",
       "      <th>druid</th>\n",
       "      <td>5673.333333</td>\n",
       "    </tr>\n",
       "    <tr>\n",
       "      <th>priest</th>\n",
       "      <td>6450.000000</td>\n",
       "    </tr>\n",
       "    <tr>\n",
       "      <th>warrior</th>\n",
       "      <td>6672.000000</td>\n",
       "    </tr>\n",
       "  </tbody>\n",
       "</table>\n",
       "</div>"
      ],
      "text/plain": [
       "                cost\n",
       "hero                \n",
       "paladin  3763.333333\n",
       "mage     4654.545455\n",
       "hunter   4703.333333\n",
       "shaman   4780.000000\n",
       "warlock  5616.666667\n",
       "rogue    5620.000000\n",
       "druid    5673.333333\n",
       "priest   6450.000000\n",
       "warrior  6672.000000"
      ]
     },
     "execution_count": 11,
     "metadata": {},
     "output_type": "execute_result"
    }
   ],
   "source": [
    "tabela2.groupby('hero').mean().sort_values('cost')"
   ]
  },
  {
   "cell_type": "code",
   "execution_count": null,
   "metadata": {
    "collapsed": true
   },
   "outputs": [],
   "source": []
  }
 ],
 "metadata": {
  "kernelspec": {
   "display_name": "Python 3",
   "language": "python",
   "name": "python3"
  },
  "language_info": {
   "codemirror_mode": {
    "name": "ipython",
    "version": 3
   },
   "file_extension": ".py",
   "mimetype": "text/x-python",
   "name": "python",
   "nbconvert_exporter": "python",
   "pygments_lexer": "ipython3",
   "version": "3.4.3"
  }
 },
 "nbformat": 4,
 "nbformat_minor": 0
}
