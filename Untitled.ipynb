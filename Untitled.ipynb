{
 "cells": [
  {
   "cell_type": "code",
   "execution_count": 22,
   "metadata": {
    "collapsed": false
   },
   "outputs": [],
   "source": [
    "import pandas as pd\n",
    "\n",
    "deck = pd.read_csv(r'C:\\Users\\janez\\Documents\\GitHub\\HS\\CSV1.csv', index_col='id')\n",
    "curve = pd.read_csv(r'C:\\Users\\janez\\Documents\\GitHub\\HS\\CSV_curve.csv', index_col=\"id\")\n",
    "cards = pd.read_csv(r'C:\\Users\\janez\\Documents\\GitHub\\HS\\CSV_cards.csv', index_col='id')"
   ]
  },
  {
   "cell_type": "code",
   "execution_count": 23,
   "metadata": {
    "collapsed": true
   },
   "outputs": [],
   "source": [
    "tabela11 = pd.merge(deck, curve, left_index=True, right_index=True)\n",
    "tabela22 = pd.merge(deck, cards, left_index=True, right_index=True)\n",
    "\n",
    "tabela1 = tabela11[(tabela11.type != 'Theorycraft') & (tabela11.type !='Tournament')]\n",
    "tabela2 = tabela22[(tabela22.type != 'Theorycraft') & (tabela22.type !='Tournament')]\n"
   ]
  },
  {
   "cell_type": "code",
   "execution_count": 24,
   "metadata": {
    "collapsed": false
   },
   "outputs": [
    {
     "data": {
      "text/html": [
       "<div>\n",
       "<table border=\"1\" class=\"dataframe\">\n",
       "  <thead>\n",
       "    <tr style=\"text-align: right;\">\n",
       "      <th></th>\n",
       "      <th>type</th>\n",
       "      <th>cost</th>\n",
       "    </tr>\n",
       "  </thead>\n",
       "  <tbody>\n",
       "    <tr>\n",
       "      <th>0</th>\n",
       "      <td>Aggro</td>\n",
       "      <td>2814.339623</td>\n",
       "    </tr>\n",
       "    <tr>\n",
       "      <th>1</th>\n",
       "      <td>Arena</td>\n",
       "      <td>3347.272727</td>\n",
       "    </tr>\n",
       "    <tr>\n",
       "      <th>2</th>\n",
       "      <td>Tempo</td>\n",
       "      <td>4076.000000</td>\n",
       "    </tr>\n",
       "    <tr>\n",
       "      <th>3</th>\n",
       "      <td>Combo</td>\n",
       "      <td>4642.745098</td>\n",
       "    </tr>\n",
       "    <tr>\n",
       "      <th>4</th>\n",
       "      <td>None</td>\n",
       "      <td>5003.269231</td>\n",
       "    </tr>\n",
       "    <tr>\n",
       "      <th>5</th>\n",
       "      <td>Midrange</td>\n",
       "      <td>5074.754098</td>\n",
       "    </tr>\n",
       "    <tr>\n",
       "      <th>6</th>\n",
       "      <td>Control</td>\n",
       "      <td>6586.238532</td>\n",
       "    </tr>\n",
       "  </tbody>\n",
       "</table>\n",
       "</div>"
      ],
      "text/plain": [
       "       type         cost\n",
       "0     Aggro  2814.339623\n",
       "1     Arena  3347.272727\n",
       "2     Tempo  4076.000000\n",
       "3     Combo  4642.745098\n",
       "4      None  5003.269231\n",
       "5  Midrange  5074.754098\n",
       "6   Control  6586.238532"
      ]
     },
     "execution_count": 24,
     "metadata": {},
     "output_type": "execute_result"
    }
   ],
   "source": [
    "tabela1.groupby('type').mean().sort_values('cost').reset_index()[['type','cost']]"
   ]
  },
  {
   "cell_type": "code",
   "execution_count": 25,
   "metadata": {
    "collapsed": false
   },
   "outputs": [
    {
     "data": {
      "text/plain": [
       "<matplotlib.axes._subplots.AxesSubplot at 0x61f54b0>"
      ]
     },
     "execution_count": 25,
     "metadata": {},
     "output_type": "execute_result"
    },
    {
     "data": {
      "image/png": "[encoded data removed]",
      "text/plain": [
       "<matplotlib.figure.Figure at 0x6628a10>"
      ]
     },
     "metadata": {},
     "output_type": "display_data"
    }
   ],
   "source": [
    "%matplotlib inline\n",
    "tabela1.groupby('type').mean().sort_values('cost').reset_index()[['type','cost']].plot(x='type')"
   ]
  },
  {
   "cell_type": "code",
   "execution_count": 26,
   "metadata": {
    "collapsed": false
   },
   "outputs": [
    {
     "data": {
      "text/html": [
       "<div>\n",
       "<table border=\"1\" class=\"dataframe\">\n",
       "  <thead>\n",
       "    <tr style=\"text-align: right;\">\n",
       "      <th></th>\n",
       "      <th>type</th>\n",
       "      <th>0</th>\n",
       "      <th>1</th>\n",
       "      <th>2</th>\n",
       "      <th>3</th>\n",
       "      <th>4</th>\n",
       "      <th>5</th>\n",
       "      <th>6</th>\n",
       "      <th>7</th>\n",
       "    </tr>\n",
       "  </thead>\n",
       "  <tbody>\n",
       "    <tr>\n",
       "      <th>0</th>\n",
       "      <td>Aggro</td>\n",
       "      <td>0.490566</td>\n",
       "      <td>6.735849</td>\n",
       "      <td>8.698113</td>\n",
       "      <td>6.169811</td>\n",
       "      <td>4.641509</td>\n",
       "      <td>2.037736</td>\n",
       "      <td>0.415094</td>\n",
       "      <td>0.811321</td>\n",
       "    </tr>\n",
       "    <tr>\n",
       "      <th>1</th>\n",
       "      <td>Arena</td>\n",
       "      <td>0.454545</td>\n",
       "      <td>3.181818</td>\n",
       "      <td>6.727273</td>\n",
       "      <td>5.727273</td>\n",
       "      <td>5.454545</td>\n",
       "      <td>4.272727</td>\n",
       "      <td>1.818182</td>\n",
       "      <td>2.363636</td>\n",
       "    </tr>\n",
       "    <tr>\n",
       "      <th>2</th>\n",
       "      <td>Tempo</td>\n",
       "      <td>0.360000</td>\n",
       "      <td>5.400000</td>\n",
       "      <td>8.520000</td>\n",
       "      <td>6.280000</td>\n",
       "      <td>3.720000</td>\n",
       "      <td>2.920000</td>\n",
       "      <td>0.880000</td>\n",
       "      <td>1.920000</td>\n",
       "    </tr>\n",
       "    <tr>\n",
       "      <th>3</th>\n",
       "      <td>Combo</td>\n",
       "      <td>1.490196</td>\n",
       "      <td>3.823529</td>\n",
       "      <td>7.254902</td>\n",
       "      <td>6.039216</td>\n",
       "      <td>4.313725</td>\n",
       "      <td>3.333333</td>\n",
       "      <td>1.627451</td>\n",
       "      <td>2.117647</td>\n",
       "    </tr>\n",
       "    <tr>\n",
       "      <th>4</th>\n",
       "      <td>None</td>\n",
       "      <td>0.846154</td>\n",
       "      <td>4.115385</td>\n",
       "      <td>6.990385</td>\n",
       "      <td>5.423077</td>\n",
       "      <td>4.701923</td>\n",
       "      <td>3.144231</td>\n",
       "      <td>2.019231</td>\n",
       "      <td>2.500000</td>\n",
       "    </tr>\n",
       "    <tr>\n",
       "      <th>5</th>\n",
       "      <td>Midrange</td>\n",
       "      <td>0.606557</td>\n",
       "      <td>3.918033</td>\n",
       "      <td>7.114754</td>\n",
       "      <td>5.770492</td>\n",
       "      <td>5.196721</td>\n",
       "      <td>3.163934</td>\n",
       "      <td>2.000000</td>\n",
       "      <td>2.229508</td>\n",
       "    </tr>\n",
       "    <tr>\n",
       "      <th>6</th>\n",
       "      <td>Control</td>\n",
       "      <td>0.651376</td>\n",
       "      <td>2.908257</td>\n",
       "      <td>6.100917</td>\n",
       "      <td>5.954128</td>\n",
       "      <td>4.211009</td>\n",
       "      <td>3.935780</td>\n",
       "      <td>3.009174</td>\n",
       "      <td>3.229358</td>\n",
       "    </tr>\n",
       "  </tbody>\n",
       "</table>\n",
       "</div>"
      ],
      "text/plain": [
       "       type         0         1         2         3         4         5  \\\n",
       "0     Aggro  0.490566  6.735849  8.698113  6.169811  4.641509  2.037736   \n",
       "1     Arena  0.454545  3.181818  6.727273  5.727273  5.454545  4.272727   \n",
       "2     Tempo  0.360000  5.400000  8.520000  6.280000  3.720000  2.920000   \n",
       "3     Combo  1.490196  3.823529  7.254902  6.039216  4.313725  3.333333   \n",
       "4      None  0.846154  4.115385  6.990385  5.423077  4.701923  3.144231   \n",
       "5  Midrange  0.606557  3.918033  7.114754  5.770492  5.196721  3.163934   \n",
       "6   Control  0.651376  2.908257  6.100917  5.954128  4.211009  3.935780   \n",
       "\n",
       "          6         7  \n",
       "0  0.415094  0.811321  \n",
       "1  1.818182  2.363636  \n",
       "2  0.880000  1.920000  \n",
       "3  1.627451  2.117647  \n",
       "4  2.019231  2.500000  \n",
       "5  2.000000  2.229508  \n",
       "6  3.009174  3.229358  "
      ]
     },
     "execution_count": 26,
     "metadata": {},
     "output_type": "execute_result"
    }
   ],
   "source": [
    "\n",
    "tabela1.groupby('type').mean().sort_values('cost').reset_index()[['type','0','1','2','3','4','5','6','7']]"
   ]
  },
  {
   "cell_type": "code",
   "execution_count": 27,
   "metadata": {
    "collapsed": false
   },
   "outputs": [
    {
     "data": {
      "text/plain": [
       "<matplotlib.axes._subplots.AxesSubplot at 0x6628590>"
      ]
     },
     "execution_count": 27,
     "metadata": {},
     "output_type": "execute_result"
    },
    {
     "data": {
      "image/png": "[encoded data removed]",
      "text/plain": [
       "<matplotlib.figure.Figure at 0x36db7b0>"
      ]
     },
     "metadata": {},
     "output_type": "display_data"
    }
   ],
   "source": [
    "%matplotlib inline\n",
    "tabela1.groupby('type').mean().sort_values('cost').reset_index()[['type','0','1','2','3','4','5','6','7']].plot(kind='area',x='type')"
   ]
  },
  {
   "cell_type": "code",
   "execution_count": 28,
   "metadata": {
    "collapsed": false
   },
   "outputs": [
    {
     "data": {
      "text/html": [
       "<div>\n",
       "<table border=\"1\" class=\"dataframe\">\n",
       "  <thead>\n",
       "    <tr style=\"text-align: right;\">\n",
       "      <th></th>\n",
       "      <th>hero</th>\n",
       "      <th>type</th>\n",
       "      <th>cost</th>\n",
       "      <th>1</th>\n",
       "      <th>2</th>\n",
       "      <th>3</th>\n",
       "      <th>4</th>\n",
       "      <th>5</th>\n",
       "      <th>6</th>\n",
       "      <th>7</th>\n",
       "      <th>...</th>\n",
       "      <th>21</th>\n",
       "      <th>22</th>\n",
       "      <th>23</th>\n",
       "      <th>24</th>\n",
       "      <th>25</th>\n",
       "      <th>26</th>\n",
       "      <th>27</th>\n",
       "      <th>28</th>\n",
       "      <th>29</th>\n",
       "      <th>30</th>\n",
       "    </tr>\n",
       "    <tr>\n",
       "      <th>id</th>\n",
       "      <th></th>\n",
       "      <th></th>\n",
       "      <th></th>\n",
       "      <th></th>\n",
       "      <th></th>\n",
       "      <th></th>\n",
       "      <th></th>\n",
       "      <th></th>\n",
       "      <th></th>\n",
       "      <th></th>\n",
       "      <th></th>\n",
       "      <th></th>\n",
       "      <th></th>\n",
       "      <th></th>\n",
       "      <th></th>\n",
       "      <th></th>\n",
       "      <th></th>\n",
       "      <th></th>\n",
       "      <th></th>\n",
       "      <th></th>\n",
       "      <th></th>\n",
       "    </tr>\n",
       "  </thead>\n",
       "  <tbody>\n",
       "    <tr>\n",
       "      <th>1</th>\n",
       "      <td>druid</td>\n",
       "      <td>Midrange</td>\n",
       "      <td>6480</td>\n",
       "      <td>innervate</td>\n",
       "      <td>darnassus-aspirant</td>\n",
       "      <td>savage-roar</td>\n",
       "      <td>swipe</td>\n",
       "      <td>keeper-of-the-grove</td>\n",
       "      <td>druid-of-the-claw</td>\n",
       "      <td>force-of-nature</td>\n",
       "      <td>...</td>\n",
       "      <td>NaN</td>\n",
       "      <td>NaN</td>\n",
       "      <td>NaN</td>\n",
       "      <td>NaN</td>\n",
       "      <td>NaN</td>\n",
       "      <td>NaN</td>\n",
       "      <td>NaN</td>\n",
       "      <td>NaN</td>\n",
       "      <td>NaN</td>\n",
       "      <td>NaN</td>\n",
       "    </tr>\n",
       "    <tr>\n",
       "      <th>2</th>\n",
       "      <td>mage</td>\n",
       "      <td>Tempo</td>\n",
       "      <td>4420</td>\n",
       "      <td>arcane-missiles</td>\n",
       "      <td>mirror-image</td>\n",
       "      <td>mana-wyrm</td>\n",
       "      <td>flamecannon</td>\n",
       "      <td>frostbolt</td>\n",
       "      <td>unstable-portal</td>\n",
       "      <td>sorcerers-apprentice</td>\n",
       "      <td>...</td>\n",
       "      <td>NaN</td>\n",
       "      <td>NaN</td>\n",
       "      <td>NaN</td>\n",
       "      <td>NaN</td>\n",
       "      <td>NaN</td>\n",
       "      <td>NaN</td>\n",
       "      <td>NaN</td>\n",
       "      <td>NaN</td>\n",
       "      <td>NaN</td>\n",
       "      <td>NaN</td>\n",
       "    </tr>\n",
       "    <tr>\n",
       "      <th>3</th>\n",
       "      <td>warlock</td>\n",
       "      <td>Control</td>\n",
       "      <td>5380</td>\n",
       "      <td>sacrificial-pact</td>\n",
       "      <td>mortal-coil</td>\n",
       "      <td>power-overwhelming</td>\n",
       "      <td>darkbomb</td>\n",
       "      <td>dark-peddler</td>\n",
       "      <td>imp-gang-boss</td>\n",
       "      <td>hellfire</td>\n",
       "      <td>...</td>\n",
       "      <td>sludge-belcher</td>\n",
       "      <td>NaN</td>\n",
       "      <td>NaN</td>\n",
       "      <td>NaN</td>\n",
       "      <td>NaN</td>\n",
       "      <td>NaN</td>\n",
       "      <td>NaN</td>\n",
       "      <td>NaN</td>\n",
       "      <td>NaN</td>\n",
       "      <td>NaN</td>\n",
       "    </tr>\n",
       "    <tr>\n",
       "      <th>4</th>\n",
       "      <td>warlock</td>\n",
       "      <td>Midrange</td>\n",
       "      <td>4580</td>\n",
       "      <td>mortal-coil</td>\n",
       "      <td>power-overwhelming</td>\n",
       "      <td>voidwalker</td>\n",
       "      <td>dark-peddler</td>\n",
       "      <td>imp-gang-boss</td>\n",
       "      <td>imp-losion</td>\n",
       "      <td>voidcaller</td>\n",
       "      <td>...</td>\n",
       "      <td>NaN</td>\n",
       "      <td>NaN</td>\n",
       "      <td>NaN</td>\n",
       "      <td>NaN</td>\n",
       "      <td>NaN</td>\n",
       "      <td>NaN</td>\n",
       "      <td>NaN</td>\n",
       "      <td>NaN</td>\n",
       "      <td>NaN</td>\n",
       "      <td>NaN</td>\n",
       "    </tr>\n",
       "    <tr>\n",
       "      <th>5</th>\n",
       "      <td>paladin</td>\n",
       "      <td>Aggro</td>\n",
       "      <td>3100</td>\n",
       "      <td>blessing-of-might</td>\n",
       "      <td>shielded-minibot</td>\n",
       "      <td>coghammer</td>\n",
       "      <td>divine-favor</td>\n",
       "      <td>muster-for-battle</td>\n",
       "      <td>blessing-of-kings</td>\n",
       "      <td>keeper-of-uldaman</td>\n",
       "      <td>...</td>\n",
       "      <td>NaN</td>\n",
       "      <td>NaN</td>\n",
       "      <td>NaN</td>\n",
       "      <td>NaN</td>\n",
       "      <td>NaN</td>\n",
       "      <td>NaN</td>\n",
       "      <td>NaN</td>\n",
       "      <td>NaN</td>\n",
       "      <td>NaN</td>\n",
       "      <td>NaN</td>\n",
       "    </tr>\n",
       "  </tbody>\n",
       "</table>\n",
       "<p>5 rows × 33 columns</p>\n",
       "</div>"
      ],
      "text/plain": [
       "       hero      type  cost                  1                   2  \\\n",
       "id                                                                   \n",
       "1     druid  Midrange  6480          innervate  darnassus-aspirant   \n",
       "2      mage     Tempo  4420    arcane-missiles        mirror-image   \n",
       "3   warlock   Control  5380   sacrificial-pact         mortal-coil   \n",
       "4   warlock  Midrange  4580        mortal-coil  power-overwhelming   \n",
       "5   paladin     Aggro  3100  blessing-of-might    shielded-minibot   \n",
       "\n",
       "                     3             4                    5                  6  \\\n",
       "id                                                                             \n",
       "1          savage-roar         swipe  keeper-of-the-grove  druid-of-the-claw   \n",
       "2            mana-wyrm   flamecannon            frostbolt    unstable-portal   \n",
       "3   power-overwhelming      darkbomb         dark-peddler      imp-gang-boss   \n",
       "4           voidwalker  dark-peddler        imp-gang-boss         imp-losion   \n",
       "5            coghammer  divine-favor    muster-for-battle  blessing-of-kings   \n",
       "\n",
       "                       7 ...               21   22   23   24   25   26   27  \\\n",
       "id                       ...                                                  \n",
       "1        force-of-nature ...              NaN  NaN  NaN  NaN  NaN  NaN  NaN   \n",
       "2   sorcerers-apprentice ...              NaN  NaN  NaN  NaN  NaN  NaN  NaN   \n",
       "3               hellfire ...   sludge-belcher  NaN  NaN  NaN  NaN  NaN  NaN   \n",
       "4             voidcaller ...              NaN  NaN  NaN  NaN  NaN  NaN  NaN   \n",
       "5      keeper-of-uldaman ...              NaN  NaN  NaN  NaN  NaN  NaN  NaN   \n",
       "\n",
       "     28   29   30  \n",
       "id                 \n",
       "1   NaN  NaN  NaN  \n",
       "2   NaN  NaN  NaN  \n",
       "3   NaN  NaN  NaN  \n",
       "4   NaN  NaN  NaN  \n",
       "5   NaN  NaN  NaN  \n",
       "\n",
       "[5 rows x 33 columns]"
      ]
     },
     "execution_count": 28,
     "metadata": {},
     "output_type": "execute_result"
    }
   ],
   "source": [
    "tabela2.head()"
   ]
  },
  {
   "cell_type": "code",
   "execution_count": 29,
   "metadata": {
    "collapsed": false
   },
   "outputs": [
    {
     "data": {
      "text/html": [
       "<div>\n",
       "<table border=\"1\" class=\"dataframe\">\n",
       "  <thead>\n",
       "    <tr style=\"text-align: right;\">\n",
       "      <th></th>\n",
       "      <th>cost</th>\n",
       "    </tr>\n",
       "    <tr>\n",
       "      <th>hero</th>\n",
       "      <th></th>\n",
       "    </tr>\n",
       "  </thead>\n",
       "  <tbody>\n",
       "    <tr>\n",
       "      <th>hunter</th>\n",
       "      <td>3868.750000</td>\n",
       "    </tr>\n",
       "    <tr>\n",
       "      <th>shaman</th>\n",
       "      <td>4406.666667</td>\n",
       "    </tr>\n",
       "    <tr>\n",
       "      <th>rogue</th>\n",
       "      <td>4540.000000</td>\n",
       "    </tr>\n",
       "    <tr>\n",
       "      <th>priest</th>\n",
       "      <td>4722.800000</td>\n",
       "    </tr>\n",
       "    <tr>\n",
       "      <th>druid</th>\n",
       "      <td>4740.000000</td>\n",
       "    </tr>\n",
       "    <tr>\n",
       "      <th>mage</th>\n",
       "      <td>4749.863014</td>\n",
       "    </tr>\n",
       "    <tr>\n",
       "      <th>paladin</th>\n",
       "      <td>5038.909091</td>\n",
       "    </tr>\n",
       "    <tr>\n",
       "      <th>warlock</th>\n",
       "      <td>5455.769231</td>\n",
       "    </tr>\n",
       "    <tr>\n",
       "      <th>warrior</th>\n",
       "      <td>7243.902439</td>\n",
       "    </tr>\n",
       "  </tbody>\n",
       "</table>\n",
       "</div>"
      ],
      "text/plain": [
       "                cost\n",
       "hero                \n",
       "hunter   3868.750000\n",
       "shaman   4406.666667\n",
       "rogue    4540.000000\n",
       "priest   4722.800000\n",
       "druid    4740.000000\n",
       "mage     4749.863014\n",
       "paladin  5038.909091\n",
       "warlock  5455.769231\n",
       "warrior  7243.902439"
      ]
     },
     "execution_count": 29,
     "metadata": {},
     "output_type": "execute_result"
    }
   ],
   "source": [
    "tabela2.groupby('hero').mean().sort_values('cost')"
   ]
  },
  {
   "cell_type": "code",
   "execution_count": 30,
   "metadata": {
    "collapsed": false
   },
   "outputs": [
    {
     "data": {
      "text/plain": [
       "<matplotlib.axes._subplots.AxesSubplot at 0x36f65b0>"
      ]
     },
     "execution_count": 30,
     "metadata": {},
     "output_type": "execute_result"
    },
    {
     "data": {
      "image/png": "[encoded data removed]",
      "text/plain": [
       "<matplotlib.figure.Figure at 0x36aa1b0>"
      ]
     },
     "metadata": {},
     "output_type": "display_data"
    }
   ],
   "source": [
    "%matplotlib inline\n",
    "tabela2.groupby('hero').mean().sort_values('cost').plot()"
   ]
  },
  {
   "cell_type": "code",
   "execution_count": null,
   "metadata": {
    "collapsed": true
   },
   "outputs": [],
   "source": []
  }
 ],
 "metadata": {
  "kernelspec": {
   "display_name": "Python 3",
   "language": "python",
   "name": "python3"
  },
  "language_info": {
   "codemirror_mode": {
    "name": "ipython",
    "version": 3
   },
   "file_extension": ".py",
   "mimetype": "text/x-python",
   "name": "python",
   "nbconvert_exporter": "python",
   "pygments_lexer": "ipython3",
   "version": "3.4.3"
  }
 },
 "nbformat": 4,
 "nbformat_minor": 0
}
