{
 "cells": [
  {
   "cell_type": "code",
   "execution_count": 10,
   "metadata": {
    "collapsed": false
   },
   "outputs": [],
   "source": [
    "import pandas as pd\n",
    "\n",
    "deck = pd.read_csv(r'C:\\Users\\janez\\Documents\\GitHub\\HS\\CSV1.csv', index_col='id')\n",
    "curve = pd.read_csv(r'C:\\Users\\janez\\Documents\\GitHub\\HS\\CSV_curve.csv', index_col=\"id\")\n",
    "cards = pd.read_csv(r'C:\\Users\\janez\\Documents\\GitHub\\HS\\CSV_cards.csv', index_col='id')"
   ]
  },
  {
   "cell_type": "markdown",
   "metadata": {},
   "source": [
    "Preberemo csv datoteke."
   ]
  },
  {
   "cell_type": "code",
   "execution_count": 11,
   "metadata": {
    "collapsed": true
   },
   "outputs": [],
   "source": [
    "tabela11 = pd.merge(deck, curve, left_index=True, right_index=True)\n",
    "tabela22 = pd.merge(deck, cards, left_index=True, right_index=True)\n",
    "\n",
    "tabela1 = tabela11[(tabela11.type != 'Theorycraft') & (tabela11.type !='Tournament')]\n",
    "tabela2 = tabela22[(tabela22.type != 'Theorycraft') & (tabela22.type !='Tournament')]\n"
   ]
  },
  {
   "cell_type": "markdown",
   "metadata": {},
   "source": [
    "Tabelo z osnovnimi podatkti o kupčku združimo z tabelo o številu kart določene mana cene v tabela11. Podobno združimo tabelo o kupčku z tabelo o uporabljenih kartah in shranimo v tabela22 . V obeh tabelah odstranimo vnose z tipom decka Theorycraft ali Tournament, saj jih je premalo za statistično obdelavo."
   ]
  },
  {
   "cell_type": "code",
   "execution_count": 12,
   "metadata": {
    "collapsed": false
   },
   "outputs": [
    {
     "data": {
      "text/html": [
       "<div>\n",
       "<table border=\"1\" class=\"dataframe\">\n",
       "  <thead>\n",
       "    <tr style=\"text-align: right;\">\n",
       "      <th></th>\n",
       "      <th>type</th>\n",
       "      <th>cost</th>\n",
       "    </tr>\n",
       "  </thead>\n",
       "  <tbody>\n",
       "    <tr>\n",
       "      <th>0</th>\n",
       "      <td>Aggro</td>\n",
       "      <td>2634.000000</td>\n",
       "    </tr>\n",
       "    <tr>\n",
       "      <th>1</th>\n",
       "      <td>Tempo</td>\n",
       "      <td>4615.000000</td>\n",
       "    </tr>\n",
       "    <tr>\n",
       "      <th>2</th>\n",
       "      <td>Midrange</td>\n",
       "      <td>5160.833333</td>\n",
       "    </tr>\n",
       "    <tr>\n",
       "      <th>3</th>\n",
       "      <td>None</td>\n",
       "      <td>5460.000000</td>\n",
       "    </tr>\n",
       "    <tr>\n",
       "      <th>4</th>\n",
       "      <td>Control</td>\n",
       "      <td>5684.800000</td>\n",
       "    </tr>\n",
       "    <tr>\n",
       "      <th>5</th>\n",
       "      <td>Combo</td>\n",
       "      <td>5756.363636</td>\n",
       "    </tr>\n",
       "  </tbody>\n",
       "</table>\n",
       "</div>"
      ],
      "text/plain": [
       "       type         cost\n",
       "0     Aggro  2634.000000\n",
       "1     Tempo  4615.000000\n",
       "2  Midrange  5160.833333\n",
       "3      None  5460.000000\n",
       "4   Control  5684.800000\n",
       "5     Combo  5756.363636"
      ]
     },
     "execution_count": 12,
     "metadata": {},
     "output_type": "execute_result"
    }
   ],
   "source": [
    "tabela1.groupby('type').mean().sort_values('cost').reset_index()[['type','cost']]"
   ]
  },
  {
   "cell_type": "markdown",
   "metadata": {},
   "source": [
    "Zgornja tabela prikazuje ceno zlata potrebnega da sestavimo povprečen kupček izbranega tipa. Sortirani so od najcenejšega do najdražjega."
   ]
  },
  {
   "cell_type": "code",
   "execution_count": 13,
   "metadata": {
    "collapsed": false
   },
   "outputs": [
    {
     "data": {
      "text/plain": [
       "<matplotlib.axes._subplots.AxesSubplot at 0x5e349b0>"
      ]
     },
     "execution_count": 13,
     "metadata": {},
     "output_type": "execute_result"
    },
    {
     "data": {
      "image/png": "[encoded data removed]",
      "text/plain": [
       "<matplotlib.figure.Figure at 0x5e34ff0>"
      ]
     },
     "metadata": {},
     "output_type": "display_data"
    }
   ],
   "source": [
    "%matplotlib inline\n",
    "tabela1.groupby('type').mean().sort_values('cost').reset_index()[['type','cost']].plot(x='type')"
   ]
  },
  {
   "cell_type": "markdown",
   "metadata": {},
   "source": [
    "Graf cene kupčka glede na tip."
   ]
  },
  {
   "cell_type": "code",
   "execution_count": 14,
   "metadata": {
    "collapsed": false
   },
   "outputs": [
    {
     "data": {
      "text/html": [
       "<div>\n",
       "<table border=\"1\" class=\"dataframe\">\n",
       "  <thead>\n",
       "    <tr style=\"text-align: right;\">\n",
       "      <th></th>\n",
       "      <th>type</th>\n",
       "      <th>0</th>\n",
       "      <th>1</th>\n",
       "      <th>2</th>\n",
       "      <th>3</th>\n",
       "      <th>4</th>\n",
       "      <th>5</th>\n",
       "      <th>6</th>\n",
       "      <th>7</th>\n",
       "    </tr>\n",
       "  </thead>\n",
       "  <tbody>\n",
       "    <tr>\n",
       "      <th>0</th>\n",
       "      <td>Aggro</td>\n",
       "      <td>0.500000</td>\n",
       "      <td>6.850000</td>\n",
       "      <td>8.900000</td>\n",
       "      <td>6.150000</td>\n",
       "      <td>4.200000</td>\n",
       "      <td>2.350000</td>\n",
       "      <td>0.500000</td>\n",
       "      <td>0.550000</td>\n",
       "    </tr>\n",
       "    <tr>\n",
       "      <th>1</th>\n",
       "      <td>Tempo</td>\n",
       "      <td>0.500000</td>\n",
       "      <td>4.875000</td>\n",
       "      <td>8.250000</td>\n",
       "      <td>5.625000</td>\n",
       "      <td>4.000000</td>\n",
       "      <td>3.250000</td>\n",
       "      <td>1.250000</td>\n",
       "      <td>2.250000</td>\n",
       "    </tr>\n",
       "    <tr>\n",
       "      <th>2</th>\n",
       "      <td>Midrange</td>\n",
       "      <td>0.500000</td>\n",
       "      <td>4.166667</td>\n",
       "      <td>7.333333</td>\n",
       "      <td>5.500000</td>\n",
       "      <td>5.083333</td>\n",
       "      <td>3.375000</td>\n",
       "      <td>1.875000</td>\n",
       "      <td>2.166667</td>\n",
       "    </tr>\n",
       "    <tr>\n",
       "      <th>3</th>\n",
       "      <td>None</td>\n",
       "      <td>0.636364</td>\n",
       "      <td>4.272727</td>\n",
       "      <td>7.090909</td>\n",
       "      <td>6.000000</td>\n",
       "      <td>4.000000</td>\n",
       "      <td>3.000000</td>\n",
       "      <td>3.090909</td>\n",
       "      <td>1.909091</td>\n",
       "    </tr>\n",
       "    <tr>\n",
       "      <th>4</th>\n",
       "      <td>Control</td>\n",
       "      <td>0.960000</td>\n",
       "      <td>2.080000</td>\n",
       "      <td>6.480000</td>\n",
       "      <td>5.640000</td>\n",
       "      <td>4.520000</td>\n",
       "      <td>4.200000</td>\n",
       "      <td>2.800000</td>\n",
       "      <td>3.320000</td>\n",
       "    </tr>\n",
       "    <tr>\n",
       "      <th>5</th>\n",
       "      <td>Combo</td>\n",
       "      <td>1.272727</td>\n",
       "      <td>3.000000</td>\n",
       "      <td>7.363636</td>\n",
       "      <td>6.727273</td>\n",
       "      <td>4.272727</td>\n",
       "      <td>3.363636</td>\n",
       "      <td>1.636364</td>\n",
       "      <td>2.363636</td>\n",
       "    </tr>\n",
       "  </tbody>\n",
       "</table>\n",
       "</div>"
      ],
      "text/plain": [
       "       type         0         1         2         3         4         5  \\\n",
       "0     Aggro  0.500000  6.850000  8.900000  6.150000  4.200000  2.350000   \n",
       "1     Tempo  0.500000  4.875000  8.250000  5.625000  4.000000  3.250000   \n",
       "2  Midrange  0.500000  4.166667  7.333333  5.500000  5.083333  3.375000   \n",
       "3      None  0.636364  4.272727  7.090909  6.000000  4.000000  3.000000   \n",
       "4   Control  0.960000  2.080000  6.480000  5.640000  4.520000  4.200000   \n",
       "5     Combo  1.272727  3.000000  7.363636  6.727273  4.272727  3.363636   \n",
       "\n",
       "          6         7  \n",
       "0  0.500000  0.550000  \n",
       "1  1.250000  2.250000  \n",
       "2  1.875000  2.166667  \n",
       "3  3.090909  1.909091  \n",
       "4  2.800000  3.320000  \n",
       "5  1.636364  2.363636  "
      ]
     },
     "execution_count": 14,
     "metadata": {},
     "output_type": "execute_result"
    }
   ],
   "source": [
    "tabela1.groupby('type').mean().sort_values('cost').reset_index()[['type','0','1','2','3','4','5','6','7']]"
   ]
  },
  {
   "cell_type": "markdown",
   "metadata": {},
   "source": [
    "Tabela za vsak tip prikazuje povprečno število kart z posameznim številom kristalov."
   ]
  },
  {
   "cell_type": "code",
   "execution_count": 15,
   "metadata": {
    "collapsed": false
   },
   "outputs": [
    {
     "data": {
      "text/plain": [
       "<matplotlib.axes._subplots.AxesSubplot at 0x5b536f0>"
      ]
     },
     "execution_count": 15,
     "metadata": {},
     "output_type": "execute_result"
    },
    {
     "data": {
      "image/png": "[encoded data removed]",
      "text/plain": [
       "<matplotlib.figure.Figure at 0x5eeba30>"
      ]
     },
     "metadata": {},
     "output_type": "display_data"
    }
   ],
   "source": [
    "%matplotlib inline\n",
    "tabela1.groupby('type').mean().sort_values('cost').reset_index()[['type','0','1','2','3','4','5','6','7']].plot(kind='area',x='type')"
   ]
  },
  {
   "cell_type": "markdown",
   "metadata": {},
   "source": [
    "Ploskovni graf prej navedene tabele"
   ]
  },
  {
   "cell_type": "code",
   "execution_count": 20,
   "metadata": {
    "collapsed": false
   },
   "outputs": [
    {
     "data": {
      "text/plain": [
       "dr-boom              54\n",
       "piloted-shredder     44\n",
       "sludge-belcher       41\n",
       "antique-healbot      32\n",
       "ironbeak-owl         31\n",
       "loatheb              30\n",
       "defender-of-argus    28\n",
       "azure-drake          27\n",
       "mad-scientist        27\n",
       "big-game-hunter      27\n",
       "dtype: int64"
      ]
     },
     "execution_count": 20,
     "metadata": {},
     "output_type": "execute_result"
    }
   ],
   "source": [
    "cards.stack().value_counts().head(10)"
   ]
  },
  {
   "cell_type": "code",
   "execution_count": null,
   "metadata": {
    "collapsed": true
   },
   "outputs": [],
   "source": [
    "10 najbolj priljubljenih kart v kupčku."
   ]
  },
  {
   "cell_type": "code",
   "execution_count": 18,
   "metadata": {
    "collapsed": false
   },
   "outputs": [
    {
     "data": {
      "text/html": [
       "<div>\n",
       "<table border=\"1\" class=\"dataframe\">\n",
       "  <thead>\n",
       "    <tr style=\"text-align: right;\">\n",
       "      <th></th>\n",
       "      <th>cost</th>\n",
       "    </tr>\n",
       "    <tr>\n",
       "      <th>hero</th>\n",
       "      <th></th>\n",
       "    </tr>\n",
       "  </thead>\n",
       "  <tbody>\n",
       "    <tr>\n",
       "      <th>hunter</th>\n",
       "      <td>3978.461538</td>\n",
       "    </tr>\n",
       "    <tr>\n",
       "      <th>mage</th>\n",
       "      <td>4501.428571</td>\n",
       "    </tr>\n",
       "    <tr>\n",
       "      <th>rogue</th>\n",
       "      <td>4535.555556</td>\n",
       "    </tr>\n",
       "    <tr>\n",
       "      <th>paladin</th>\n",
       "      <td>4607.692308</td>\n",
       "    </tr>\n",
       "    <tr>\n",
       "      <th>shaman</th>\n",
       "      <td>4749.090909</td>\n",
       "    </tr>\n",
       "    <tr>\n",
       "      <th>druid</th>\n",
       "      <td>4750.000000</td>\n",
       "    </tr>\n",
       "    <tr>\n",
       "      <th>priest</th>\n",
       "      <td>4807.500000</td>\n",
       "    </tr>\n",
       "    <tr>\n",
       "      <th>warlock</th>\n",
       "      <td>5538.461538</td>\n",
       "    </tr>\n",
       "    <tr>\n",
       "      <th>warrior</th>\n",
       "      <td>7300.000000</td>\n",
       "    </tr>\n",
       "  </tbody>\n",
       "</table>\n",
       "</div>"
      ],
      "text/plain": [
       "                cost\n",
       "hero                \n",
       "hunter   3978.461538\n",
       "mage     4501.428571\n",
       "rogue    4535.555556\n",
       "paladin  4607.692308\n",
       "shaman   4749.090909\n",
       "druid    4750.000000\n",
       "priest   4807.500000\n",
       "warlock  5538.461538\n",
       "warrior  7300.000000"
      ]
     },
     "execution_count": 18,
     "metadata": {},
     "output_type": "execute_result"
    }
   ],
   "source": [
    "tabela2.groupby('hero').mean().sort_values('cost')"
   ]
  },
  {
   "cell_type": "code",
   "execution_count": null,
   "metadata": {
    "collapsed": true
   },
   "outputs": [],
   "source": [
    "Zgornja tabela prikazuje ceno zlata potrebnega da sestavimo povprečen kupček glede na heroja, kiga igramo.\n",
    "Sortirani so od najcenejšega do najdražjega."
   ]
  },
  {
   "cell_type": "code",
   "execution_count": 19,
   "metadata": {
    "collapsed": false
   },
   "outputs": [
    {
     "data": {
      "text/plain": [
       "<matplotlib.axes._subplots.AxesSubplot at 0x5f2a670>"
      ]
     },
     "execution_count": 19,
     "metadata": {},
     "output_type": "execute_result"
    },
    {
     "data": {
      "image/png": "[encoded data removed]",
      "text/plain": [
       "<matplotlib.figure.Figure at 0x4a63b90>"
      ]
     },
     "metadata": {},
     "output_type": "display_data"
    }
   ],
   "source": [
    "%matplotlib inline\n",
    "tabela2.groupby('hero').mean().sort_values('cost').plot()"
   ]
  },
  {
   "cell_type": "markdown",
   "metadata": {
    "collapsed": true
   },
   "source": [
    "Graf povprečne cene kupčka za posameznega heroja."
   ]
  }
 ],
 "metadata": {
  "kernelspec": {
   "display_name": "Python 3",
   "language": "python",
   "name": "python3"
  },
  "language_info": {
   "codemirror_mode": {
    "name": "ipython",
    "version": 3
   },
   "file_extension": ".py",
   "mimetype": "text/x-python",
   "name": "python",
   "nbconvert_exporter": "python",
   "pygments_lexer": "ipython3",
   "version": "3.4.3"
  }
 },
 "nbformat": 4,
 "nbformat_minor": 0
}
